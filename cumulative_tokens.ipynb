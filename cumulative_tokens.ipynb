{
 "cells": [
  {
   "cell_type": "code",
   "execution_count": 1,
   "metadata": {},
   "outputs": [],
   "source": [
    "import pandas as pd\n",
    "import os"
   ]
  },
  {
   "cell_type": "code",
   "execution_count": 2,
   "metadata": {},
   "outputs": [],
   "source": [
    "csv_file_path = \"Outputs/no_metaunits_all_files_output.csv\"\n",
    "\n",
    "max_columns = 0\n",
    "with open(csv_file_path, 'r') as file:\n",
    "    for line in file:\n",
    "        num_columns = len(line.split(',\"'))\n",
    "        max_columns = max(max_columns, num_columns)\n",
    "column_names = ['id', 'File name'] + [i for i in range(max_columns-1)]\n",
    "\n",
    "sequence_df = pd.read_csv(csv_file_path, delimiter=\",\", names=column_names).drop(0)\n",
    "\n",
    "sequence_df['id'] = sequence_df['id'].astype(int)\n",
    "sequence_df = sequence_df.sort_values(by='id')"
   ]
  },
  {
   "cell_type": "code",
   "execution_count": 3,
   "metadata": {},
   "outputs": [],
   "source": [
    "tokens_seen = {}\n",
    "cumulative_tokens = []\n",
    "for i, row in sequence_df.iloc[:,2:].iterrows():\n",
    "    new_tokens_in_row = 0\n",
    "    for j in row:\n",
    "        if not pd.isna(j):\n",
    "            _, token = eval(j)\n",
    "            if token in tokens_seen:\n",
    "                tokens_seen[token] += 1\n",
    "            else:              \n",
    "              tokens_seen[token] = 0\n",
    "              new_tokens_in_row +=1\n",
    "              \n",
    "    cumulative_tokens.append(new_tokens_in_row)\n"
   ]
  },
  {
   "cell_type": "code",
   "execution_count": 4,
   "metadata": {},
   "outputs": [],
   "source": [
    "cumulative_tokens_df = sequence_df.copy()[['id', 'File name']]\n",
    "cumulative_tokens_df.loc[:,'Cumulative Tokens'] = cumulative_tokens\n"
   ]
  },
  {
   "cell_type": "code",
   "execution_count": 68,
   "metadata": {},
   "outputs": [],
   "source": [
    "output_cumulative_tokens = \"Outputs/cumulative_tokens.xlsx\"\n",
    "\n",
    "if os.path.exists(output_cumulative_tokens):\n",
    "  os.remove(output_cumulative_tokens)\n",
    "\n",
    "cumulative_tokens_df.to_excel(output_cumulative_tokens, index=False)\n"
   ]
  }
 ],
 "metadata": {
  "kernelspec": {
   "display_name": "Python 3",
   "language": "python",
   "name": "python3"
  },
  "language_info": {
   "codemirror_mode": {
    "name": "ipython",
    "version": 3
   },
   "file_extension": ".py",
   "mimetype": "text/x-python",
   "name": "python",
   "nbconvert_exporter": "python",
   "pygments_lexer": "ipython3",
   "version": "3.11.4"
  }
 },
 "nbformat": 4,
 "nbformat_minor": 2
}
